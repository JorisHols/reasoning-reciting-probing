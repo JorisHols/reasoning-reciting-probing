{
 "cells": [
  {
   "cell_type": "code",
   "execution_count": null,
   "metadata": {},
   "outputs": [],
   "source": [
    "# Load K&K dataset from HuggingFace\n"
   ]
  }
 ],
 "metadata": {
  "kernelspec": {
   "display_name": "reasoning-reciting-probing--8j9mRgr-py3.11",
   "language": "python",
   "name": "python3"
  },
  "language_info": {
   "name": "python",
   "version": "3.11.5"
  }
 },
 "nbformat": 4,
 "nbformat_minor": 2
}
