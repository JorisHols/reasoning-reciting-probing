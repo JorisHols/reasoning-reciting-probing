{
 "cells": [
  {
   "cell_type": "markdown",
   "metadata": {},
   "source": [
    "### Notebook to convert the activations obtained by running Llama 3 8B on the LiReF paper datasets to direction vectors using difference of means and logistic regression probes"
   ]
  },
  {
   "cell_type": "code",
   "execution_count": 35,
   "metadata": {},
   "outputs": [],
   "source": [
    "import torch\n",
    "# Load the activations from .pt file\n",
    "base = \"../../../../ignored/\"\n",
    "#path = \"/Users/jorisholshuijsen/Documents/Artificial Intelligence/Thesis/reasoning-reciting-probing/inputs/chess/interventions/liref_data_activations.pt\"\n"
   ]
  },
  {
   "cell_type": "code",
   "execution_count": 37,
   "metadata": {},
   "outputs": [],
   "source": [
    "def get_difference_of_means_directions(hs_cache_no_cot, model_layers_num, mlp_dim_num, reason_indices, memory_indices):\n",
    "\n",
    "    candidate_directions = torch.zeros((model_layers_num, mlp_dim_num), dtype=torch.float64, device='cpu')\n",
    "\n",
    "    # calculating candidate reasoning features\n",
    "    for layer in range(model_layers_num):\n",
    "            \n",
    "        hs_no_cot = hs_cache_no_cot[layer]\n",
    "\n",
    "        #  we store the mean activations in high-precision to avoid numerical issues\n",
    "        reason_hs_no_cot = hs_no_cot[reason_indices, :].to(torch.float64)\n",
    "        #print('reason_hs_no_cot.shape: ',reason_hs_no_cot.shape) reason有点多，memory有点少，需要进一步把数据集做scale up    \n",
    "        memory_hs_no_cot = hs_no_cot[memory_indices, :].to(torch.float64)\n",
    "\n",
    "        mean_reason_hs_no_cot = reason_hs_no_cot.mean(dim=0)\n",
    "        mean_memory_hs_no_cot = memory_hs_no_cot.mean(dim=0)\n",
    "\n",
    "        mean_diff = mean_reason_hs_no_cot - mean_memory_hs_no_cot  #Reasoning features shape: [bsz, dims] \n",
    "        candidate_directions[layer] = mean_diff\n",
    "\n",
    "    return candidate_directions"
   ]
  },
  {
   "cell_type": "code",
   "execution_count": 38,
   "metadata": {},
   "outputs": [
    {
     "name": "stdout",
     "output_type": "stream",
     "text": [
      "dict_keys(['mmlu-pro_3000samples'])\n"
     ]
    }
   ],
   "source": [
    "import json\n",
    "import os\n",
    "loaded_dict = torch.load(os.path.join(base, 'liref_data_activations.pt'))\n",
    "print(loaded_dict.keys())\n",
    "hs_cache_no_cot = loaded_dict['mmlu-pro_3000samples'] \n",
    "\n",
    "with open(os.path.join(base, 'mmlu-pro-3000samples.json'), 'r', encoding='utf-8') as f:\n",
    "        sampled_data = json.load(f)\n",
    "\n",
    "reason_indices = [ix for ix, sample in enumerate(sampled_data) if sample['memory_reason_score'] > 0.5]\n",
    "memory_indices = [ix for ix, sample in enumerate(sampled_data) if sample['memory_reason_score'] <= 0.5]\n",
    "\n",
    "diff_of_means_dirs = get_difference_of_means_directions(hs_cache_no_cot, 32, 4096, reason_indices, memory_indices)"
   ]
  },
  {
   "cell_type": "code",
   "execution_count": 39,
   "metadata": {},
   "outputs": [
    {
     "name": "stdout",
     "output_type": "stream",
     "text": [
      "Saved reasoning directions to ../../../../inputs/chess/interventions/liref_reasoning_directions.json\n"
     ]
    }
   ],
   "source": [
    "# Save the difference of means directions to a json file with the following format:\n",
    "# {\n",
    "#     \"layer_0\": [0.1, 0.2, 0.3],\n",
    "#     \"layer_1\": [0.4, 0.5, 0.6],\n",
    "#     ...\n",
    "# }\n",
    "# Convert the tensor to a dictionary with the required format\n",
    "directions_dict = {}\n",
    "for layer in range(diff_of_means_dirs.shape[0]):\n",
    "    # Convert tensor values to Python floats and store in list\n",
    "    layer_values = diff_of_means_dirs[layer].tolist()\n",
    "    directions_dict[f\"layer_{layer}\"] = layer_values\n",
    "\n",
    "# Save to a JSON file\n",
    "output_path = os.path.join('../../../../inputs/chess/interventions/', 'liref_reasoning_directions.json')\n",
    "with open(output_path, 'w', encoding='utf-8') as f:\n",
    "    json.dump(directions_dict, f)\n",
    "\n",
    "print(f\"Saved reasoning directions to {output_path}\")\n"
   ]
  }
 ],
 "metadata": {
  "kernelspec": {
   "display_name": "reasoning-reciting-probing--8j9mRgr-py3.11",
   "language": "python",
   "name": "python3"
  },
  "language_info": {
   "codemirror_mode": {
    "name": "ipython",
    "version": 3
   },
   "file_extension": ".py",
   "mimetype": "text/x-python",
   "name": "python",
   "nbconvert_exporter": "python",
   "pygments_lexer": "ipython3",
   "version": "3.11.5"
  }
 },
 "nbformat": 4,
 "nbformat_minor": 2
}
